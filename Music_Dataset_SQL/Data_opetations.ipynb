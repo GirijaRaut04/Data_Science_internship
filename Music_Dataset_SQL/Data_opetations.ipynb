{
 "cells": [
  {
   "cell_type": "code",
   "execution_count": 30,
   "id": "f8d605d4-9f9e-4c3d-ab2d-66579d6a8ea3",
   "metadata": {},
   "outputs": [],
   "source": [
    "import pandas as pd\n",
    "import sqlite3\n",
    "import os\n",
    "\n",
    "conn = sqlite3.connect(\":memory:\")\n",
    "data_dir = \"./Store_Data\"\n",
    "\n",
    "# Loop through all .csv files in the directory\n",
    "for file in os.listdir(data_dir):\n",
    "    if file.endswith(\".csv\"):\n",
    "        table_name = os.path.splitext(file)[0]  # remove .csv extension\n",
    "        df = pd.read_csv(os.path.join(data_dir, file))\n",
    "        df.to_sql(table_name, conn, index=False, if_exists=\"replace\")\n"
   ]
  },
  {
   "cell_type": "code",
   "execution_count": 31,
   "id": "ca0f2c26-e8d8-4b77-980e-59b1b6a052df",
   "metadata": {},
   "outputs": [
    {
     "name": "stdout",
     "output_type": "stream",
     "text": [
      "  first_name last_name levels\n",
      "0      Mohan     Madan     L7\n",
      "1     Andrew     Adams     L6\n",
      "2      Nancy   Edwards     L4\n",
      "3    Michael  Mitchell     L3\n",
      "4     Robert      King     L2\n",
      "5      Laura  Callahan     L2\n",
      "6       Jane   Peacock     L1\n",
      "7   Margaret      Park     L1\n",
      "8      Steve   Johnson     L1\n"
     ]
    }
   ],
   "source": [
    "# Q1: Find the most senior employee based on job title.\n",
    "# Hint: Use the employee table and sort by the levels column in descending order.\n",
    "\n",
    "\n",
    "# Run SQL query\n",
    "result = pd.read_sql(\"SELECT first_name, last_name, levels FROM employee ORDER BY levels DESC\", conn)\n",
    "print(result)"
   ]
  },
  {
   "cell_type": "code",
   "execution_count": 32,
   "id": "cf0195d9-72a3-4ad0-bc00-019b5844a410",
   "metadata": {},
   "outputs": [
    {
     "name": "stdout",
     "output_type": "stream",
     "text": [
      "   billing_country  invoice_count\n",
      "0              USA            131\n",
      "1           Canada             76\n",
      "2           Brazil             61\n",
      "3           France             50\n",
      "4          Germany             41\n",
      "5   Czech Republic             30\n",
      "6         Portugal             29\n",
      "7   United Kingdom             28\n",
      "8            India             21\n",
      "9          Ireland             13\n",
      "10           Chile             13\n",
      "11           Spain             11\n",
      "12         Finland             11\n",
      "13          Sweden             10\n",
      "14          Poland             10\n",
      "15     Netherlands             10\n",
      "16         Hungary             10\n",
      "17         Denmark             10\n",
      "18       Australia             10\n",
      "19          Norway              9\n",
      "20           Italy              9\n",
      "21         Austria              9\n",
      "22         Belgium              7\n",
      "23       Argentina              5\n"
     ]
    }
   ],
   "source": [
    "# Q2: Determine which countries have the most invoices.\n",
    "# Hint: Group the invoice data by billing_country, then count and sort the results.\n",
    "\n",
    "# Run SQL query\n",
    "result = pd.read_sql(\"SELECT billing_country, COUNT(*) AS invoice_count FROM invoice GROUP BY billing_country ORDER BY invoice_count DESC\", conn)\n",
    "print(result)"
   ]
  },
  {
   "cell_type": "code",
   "execution_count": 33,
   "id": "3a7dff56-7cb2-4b6d-8a1a-a7920b18a83a",
   "metadata": {},
   "outputs": [
    {
     "name": "stdout",
     "output_type": "stream",
     "text": [
      "     Total\n",
      "0  4709.43\n"
     ]
    }
   ],
   "source": [
    "# Q3: Identify the top 3 invoice totals.\n",
    "# Hint: Sort the invoice table by the total column.\n",
    "\n",
    "total = pd.read_sql(\"SELECT sum(total) AS Total FROM invoice ORDER BY total DESC LIMIT 3\", conn)\n",
    "print(total)"
   ]
  },
  {
   "cell_type": "code",
   "execution_count": 34,
   "id": "7c8b73c7-568f-45a8-9f95-acf599865100",
   "metadata": {},
   "outputs": [
    {
     "name": "stdout",
     "output_type": "stream",
     "text": [
      "       city    Total\n",
      "0  New York  4709.43\n"
     ]
    }
   ],
   "source": [
    "# Q4: Find the city with the highest total invoice amount to determine the best location for\n",
    "# a promotional event.\n",
    "\n",
    "total = pd.read_sql(\"SELECT billing_city AS city, sum(total) AS Total FROM invoice ORDER BY total DESC LIMIT 3\", conn)\n",
    "print(total)\n"
   ]
  },
  {
   "cell_type": "code",
   "execution_count": 35,
   "id": "53847560-b29a-464d-9c78-09d7361bddb7",
   "metadata": {},
   "outputs": [
    {
     "name": "stdout",
     "output_type": "stream",
     "text": [
      "  first_name    last_name  FinalTotal\n",
      "0  František  Wichterlová      144.54\n"
     ]
    }
   ],
   "source": [
    "# Q5: Identify the customer who has spent the most money.\n",
    "# Hint: Use a join between customer and invoice, group by customer_id, and sum\n",
    "# the totals.\n",
    "\n",
    "customer = pd.read_sql(\"\"\"\n",
    "SELECT \n",
    "    c.first_name, \n",
    "    c.last_name, \n",
    "    SUM(i.total) AS FinalTotal\n",
    "FROM customer AS c\n",
    "INNER JOIN invoice AS i ON c.customer_id = i.customer_id\n",
    "GROUP BY c.customer_id\n",
    "ORDER BY FinalTotal DESC\n",
    "LIMIT 1\n",
    "\"\"\", conn)\n",
    "\n",
    "print(customer)\n"
   ]
  },
  {
   "cell_type": "code",
   "execution_count": 36,
   "id": "43f56b5c-bddf-49a4-8b65-69954f87c28b",
   "metadata": {},
   "outputs": [
    {
     "name": "stdout",
     "output_type": "stream",
     "text": [
      "   first_name     last_name                          email\n",
      "0        Phil        Hughes          phil.hughes@gmail.com\n",
      "1       Aaron      Mitchell         aaronmitchell@yahoo.ca\n",
      "2       Terhi    Hämäläinen      terhi.hamalainen@apple.fi\n",
      "3       Wyatt        Girard          wyatt.girard@yahoo.fr\n",
      "4       Steve        Murray          steve.murray@yahoo.uk\n",
      "5    Johannes  Van der Berg        johavanderberg@yahoo.nl\n",
      "6   Stanisław        Wójcik         stanisław.wójcik@wp.pl\n",
      "7       Kathy         Chase            kachase@hotmail.com\n",
      "8    Madalena       Sampaio              masampaio@sapo.pt\n",
      "9        Jack         Smith        jacksmith@microsoft.com\n",
      "10     Helena          Holý                hholy@gmail.com\n",
      "11      Frank       Ralston             fralston@gmail.com\n",
      "12     Edward       Francis            edfrancis@yachoo.ca\n",
      "13       João     Fernandes            jfernandes@yahoo.pt\n",
      "14     Martha          Silk           marthasilk@gmail.com\n",
      "15     Niklas      Schröder            nschroder@surfeu.de\n",
      "16       Luis         Rojas             luisrojas@yahoo.cl\n",
      "17       Kara       Nielsen          kara.nielsen@jubii.dk\n",
      "18   Fernanda         Ramos       fernadaramos4@uol.com.br\n",
      "19     Astrid        Gruber         astrid.gruber@apple.at\n",
      "20      Lucas       Mancini         lucas.mancini@yahoo.it\n",
      "21    Camille       Bernard       camille.bernard@yahoo.fr\n",
      "22       Mark       Philips             mphilips12@shaw.ca\n",
      "23   Ladislav        Kovács       ladislav_kovacs@apple.hu\n",
      "24    Richard    Cunningham       ricunningham@hotmail.com\n",
      "25    Eduardo       Martins       eduardo@woodstock.com.br\n",
      "26      Diego     Gutiérrez       diego.gutierrez@yahoo.ar\n",
      "27        Tim         Goyer               tgoyer@apple.com\n",
      "28      Frank        Harris             fharris@google.com\n",
      "29   Isabelle       Mercier      isabelle_mercier@apple.fr\n",
      "30       Hugh      O'Reilly           hughoreilly@apple.ie\n",
      "31        Dan        Miller            dmiller@comcast.com\n",
      "32       Luís     Gonçalves           luisg@embraer.com.br\n",
      "33       Daan       Peeters          daan_peeters@apple.be\n",
      "34    Patrick          Gray           patrick.gray@aol.com\n",
      "35  František   Wichterlová       frantisekw@jetbrains.com\n",
      "36     Robert         Brown               robbrown@shaw.ca\n",
      "37     Leonie        Köhler          leonekohler@surfeu.de\n",
      "38      Manoj        Pareek        manoj.pareek@rediff.com\n",
      "39    Rishabh        Mishra        rishabh_mishra@yahoo.in\n",
      "40       Mark        Taylor           mark.taylor@yahoo.au\n",
      "41   Jennifer      Peterson            jenniferp@rogers.ca\n",
      "42      Julia       Barnett            jubarnett@gmail.com\n",
      "43     Joakim     Johansson      joakim.johansson@yahoo.se\n",
      "44      Ellie      Sullivan         ellie.sullivan@shaw.ca\n",
      "45    Heather       Leacock             hleacock@gmail.com\n",
      "46  Alexandre         Rocha               alero@uol.com.br\n",
      "47   François      Tremblay            ftremblay@gmail.com\n",
      "48    Roberto       Almeida  roberto.almeida@riotur.gov.br\n",
      "49    Enrique         Muñoz         enrique_munoz@yahoo.es\n",
      "50       Marc        Dubois        marc.dubois@hotmail.com\n",
      "51     Victor       Stevens             vstevens@yahoo.com\n",
      "52       Emma         Jones         emma_jones@hotmail.com\n",
      "53     Hannah     Schneider      hannah.schneider@yahoo.de\n",
      "54       Fynn    Zimmermann           fzimmermann@yahoo.de\n",
      "55       John        Gordon         johngordon22@yahoo.com\n",
      "56  Dominique      Lefebvre    dominiquelefebvre@gmail.com\n",
      "57      Bjørn        Hansen          bjorn.hansen@yahoo.no\n",
      "58   Michelle        Brooks              michelleb@aol.com\n"
     ]
    }
   ],
   "source": [
    "# Q1: Find the email, first name, and last name of customers who listen to Rock music.\n",
    "# Hint: Use joins across customer, invoice, invoice_line, and track, filtering for the\n",
    "# genre Rock.\n",
    "\n",
    "music = pd.read_sql(\"\"\"\n",
    "SELECT DISTINCT\n",
    "    c.first_name, \n",
    "    c.last_name, \n",
    "    c.email \n",
    "FROM customer AS c\n",
    "INNER JOIN invoice AS i ON c.customer_id = i.customer_id\n",
    "INNER JOIN invoice_line AS il ON i.invoice_id = il.invoice_id\n",
    "INNER JOIN track AS t ON il.track_id = t.track_id\n",
    "INNER JOIN genre AS g ON t.genre_id = g.genre_id\n",
    "WHERE g.name = 'Rock';\n",
    "\"\"\", conn)\n",
    "\n",
    "print(music)"
   ]
  },
  {
   "cell_type": "code",
   "execution_count": 18,
   "id": "fba5b110-01f2-4a71-b8eb-16750d71abc1",
   "metadata": {},
   "outputs": [
    {
     "name": "stdout",
     "output_type": "stream",
     "text": [
      "                    artist_name  rock_track_count\n",
      "0                  Led Zeppelin               161\n",
      "1                            U2               152\n",
      "2                   Deep Purple               110\n",
      "3                   Iron Maiden                97\n",
      "4                     Pearl Jam                82\n",
      "5  Creedence Clearwater Revival                80\n",
      "6                         Queen                79\n",
      "7                     Van Halen                69\n",
      "8                  Foo Fighters                53\n",
      "9            The Rolling Stones                53\n"
     ]
    }
   ],
   "source": [
    "# Q2: Identify the top 10 rock artists based on track count.\n",
    "# Hint: Use joins across artist, album, and track and filter by the genre Rock.\n",
    "# Count tracks per artist.\n",
    "\n",
    "music = pd.read_sql(\"\"\"\n",
    "SELECT \n",
    "    a.name AS artist_name,\n",
    "    COUNT(t.track_id) AS rock_track_count\n",
    "FROM artist AS a\n",
    "INNER JOIN (\n",
    "    SELECT * FROM album\n",
    "    UNION\n",
    "    SELECT * FROM album2\n",
    ") AS combined_album ON a.artist_id = combined_album.artist_id\n",
    "INNER JOIN track AS t ON combined_album.album_id = t.album_id\n",
    "INNER JOIN genre AS g ON t.genre_id = g.genre_id\n",
    "WHERE g.name = 'Rock'\n",
    "GROUP BY a.artist_id, a.name\n",
    "ORDER BY rock_track_count DESC\n",
    "LIMIT 10;\n",
    "\"\"\", conn)\n",
    "\n",
    "print(music)"
   ]
  },
  {
   "cell_type": "code",
   "execution_count": 37,
   "id": "4f64c2e8-dacc-4bc9-b931-a5a543705d02",
   "metadata": {},
   "outputs": [
    {
     "name": "stdout",
     "output_type": "stream",
     "text": [
      "                                                  name  milliseconds\n",
      "0                          You Oughta Know (Alternate)        491885\n",
      "1                                    Master Of Puppets        436453\n",
      "2                            Snoopy's search-Red baron        456071\n",
      "3                                              Stratus        582086\n",
      "4                                        No More Tears        555075\n",
      "..                                                 ...           ...\n",
      "489                             Rehab (Hot Chip Remix)        418293\n",
      "490                        You Sent Me Flying / Cherry        409906\n",
      "491                                Amy Amy Amy (Outro)        663426\n",
      "492  Symphony No. 3 Op. 36 for Orchestra and Sopran...        567494\n",
      "493  Concerto for Violin, Strings and Continuo in G...        493573\n",
      "\n",
      "[494 rows x 2 columns]\n"
     ]
    }
   ],
   "source": [
    "# Q3: Find all track names that are longer than the average track length.\n",
    "# Hint: Calculate the average length and compare each track’s length to this\n",
    "# average.\n",
    "\n",
    "tracklengh = pd.read_sql(\"\"\"\n",
    "SELECT name, milliseconds\n",
    "FROM track\n",
    "WHERE milliseconds > (\n",
    "SELECT avg(milliseconds) FROM track\n",
    ")\n",
    "\"\"\", conn)\n",
    "\n",
    "print(tracklengh)\n"
   ]
  },
  {
   "cell_type": "code",
   "execution_count": 38,
   "id": "b405a188-2854-409b-9fe5-5c7d117d0f2d",
   "metadata": {},
   "outputs": [
    {
     "name": "stdout",
     "output_type": "stream",
     "text": [
      "      customer_id first_name    last_name            artist_name  total_spent\n",
      "0              46       Hugh     O'Reilly                  Queen        27.72\n",
      "1              42      Wyatt       Girard          Frank Sinatra        23.76\n",
      "2               3   François     Tremblay                The Who        19.80\n",
      "3               5  František  Wichterlová                   Kiss        19.80\n",
      "4               6     Helena         Holý  Red Hot Chili Peppers        19.80\n",
      "...           ...        ...          ...                    ...          ...\n",
      "2184           59    Rishabh       Mishra              Van Halen         0.99\n",
      "2185           59    Rishabh       Mishra              Scorpions         0.99\n",
      "2186           59    Rishabh       Mishra                   Cake         0.99\n",
      "2187           59    Rishabh       Mishra    Christopher O'Riley         0.99\n",
      "2188           59    Rishabh       Mishra          Amy Winehouse         0.99\n",
      "\n",
      "[2189 rows x 5 columns]\n"
     ]
    }
   ],
   "source": [
    "# Q1: Calculate how much each customer has spent on each artist.\n",
    "# Hint: Use a CTE to calculate the earnings per artist from invoice_line, then join it\n",
    "# with customer, invoice, and artist.\n",
    "\n",
    "spent = pd.read_sql(\"\"\"\n",
    "WITH artist_revenue AS (\n",
    "    SELECT \n",
    "        il.invoice_id,\n",
    "        ar.artist_id,\n",
    "        ar.name AS artist_name,\n",
    "        il.unit_price * il.quantity AS amount\n",
    "    FROM invoice_line il\n",
    "    JOIN track t ON il.track_id = t.track_id\n",
    "    JOIN album al ON t.album_id = al.album_id\n",
    "    JOIN artist ar ON al.artist_id = ar.artist_id\n",
    ")\n",
    "SELECT \n",
    "    c.customer_id,\n",
    "    c.first_name,\n",
    "    c.last_name,\n",
    "    ar.artist_name,\n",
    "    ROUND(SUM(ar.amount), 2) AS total_spent\n",
    "FROM artist_revenue ar\n",
    "JOIN invoice i ON ar.invoice_id = i.invoice_id\n",
    "JOIN customer c ON i.customer_id = c.customer_id\n",
    "GROUP BY c.customer_id, ar.artist_id\n",
    "ORDER BY total_spent DESC;\n",
    "\"\"\", conn)\n",
    "\n",
    "print(spent)"
   ]
  },
  {
   "cell_type": "code",
   "execution_count": 39,
   "id": "55f19fbc-ccf2-4136-aabc-4647aea6a9aa",
   "metadata": {},
   "outputs": [
    {
     "name": "stdout",
     "output_type": "stream",
     "text": [
      "           country  most_popular_genre  purchase_count\n",
      "0        Argentina  Alternative & Punk              17\n",
      "1        Australia                Rock              34\n",
      "2          Austria                Rock              40\n",
      "3          Belgium                Rock              26\n",
      "4           Brazil                Rock             205\n",
      "5           Canada                Rock             333\n",
      "6            Chile                Rock              61\n",
      "7   Czech Republic                Rock             143\n",
      "8          Denmark                Rock              24\n",
      "9          Finland                Rock              46\n",
      "10          France                Rock             211\n",
      "11         Germany                Rock             194\n",
      "12         Hungary                Rock              44\n",
      "13           India                Rock             102\n",
      "14         Ireland                Rock              72\n",
      "15           Italy                Rock              35\n",
      "16     Netherlands                Rock              33\n",
      "17          Norway                Rock              40\n",
      "18          Poland                Rock              40\n",
      "19        Portugal                Rock             108\n",
      "20           Spain                Rock              46\n",
      "21          Sweden                Rock              60\n",
      "22             USA                Rock             561\n",
      "23  United Kingdom                Rock             166\n"
     ]
    }
   ],
   "source": [
    "# Q2: Determine the most popular music genre for each country based on purchases.\n",
    "# Hint: Use a CTE or window function to rank genres by purchase count per\n",
    "# country.\n",
    "\n",
    "musicgenre = pd.read_sql(\"\"\"\n",
    "WITH musicgenre AS (\n",
    "    SELECT \n",
    "        c.country,\n",
    "        g.name AS genre_name,\n",
    "        COUNT(*) AS purchase_count\n",
    "    FROM customer AS c\n",
    "    JOIN invoice AS i ON c.customer_id = i.customer_id\n",
    "    JOIN invoice_line AS il ON i.invoice_id = il.invoice_id\n",
    "    JOIN track AS t ON il.track_id = t.track_id\n",
    "    JOIN genre AS g ON t.genre_id = g.genre_id\n",
    "    GROUP BY c.country, g.name\n",
    "),\n",
    "ranked_genres AS (\n",
    "    SELECT \n",
    "        country,  \n",
    "        genre_name,  \n",
    "        purchase_count,\n",
    "        ROW_NUMBER() OVER (PARTITION BY country ORDER BY purchase_count DESC) AS genre_rank\n",
    "    FROM musicgenre \n",
    ")\n",
    "SELECT \n",
    "    country,  \n",
    "    genre_name AS most_popular_genre,\n",
    "    purchase_count\n",
    "FROM ranked_genres\n",
    "WHERE genre_rank = 1\n",
    "ORDER BY country;\n",
    "\"\"\", conn)\n",
    "\n",
    "print(musicgenre)"
   ]
  },
  {
   "cell_type": "code",
   "execution_count": 40,
   "id": "bec7271c-5a9d-45c6-8d5e-0cef9abc3de0",
   "metadata": {},
   "outputs": [
    {
     "name": "stdout",
     "output_type": "stream",
     "text": [
      "    customer_id first_name     last_name         country  total_spent\n",
      "0            56      Diego     Gutiérrez       Argentina        39.60\n",
      "1            55       Mark        Taylor       Australia        81.18\n",
      "2             7     Astrid        Gruber         Austria        69.30\n",
      "3             8       Daan       Peeters         Belgium        60.39\n",
      "4             1       Luís     Gonçalves          Brazil       108.90\n",
      "5             3   François      Tremblay          Canada        99.99\n",
      "6            57       Luis         Rojas           Chile        97.02\n",
      "7             5  František   Wichterlová  Czech Republic       144.54\n",
      "8             9       Kara       Nielsen         Denmark        37.62\n",
      "9            44      Terhi    Hämäläinen         Finland        79.20\n",
      "10           42      Wyatt        Girard          France        99.99\n",
      "11           37       Fynn    Zimmermann         Germany        94.05\n",
      "12           45   Ladislav        Kovács         Hungary        78.21\n",
      "13           58      Manoj        Pareek           India       111.87\n",
      "14           46       Hugh      O'Reilly         Ireland       114.84\n",
      "15           47      Lucas       Mancini           Italy        50.49\n",
      "16           48   Johannes  Van der Berg     Netherlands        65.34\n",
      "17            4      Bjørn        Hansen          Norway        72.27\n",
      "18           49  Stanisław        Wójcik          Poland        76.23\n",
      "19           34       João     Fernandes        Portugal       102.96\n",
      "20           50    Enrique         Muñoz           Spain        98.01\n",
      "21           51     Joakim     Johansson          Sweden        75.24\n",
      "22           17       Jack         Smith             USA        98.01\n",
      "23           53       Phil        Hughes  United Kingdom        98.01\n"
     ]
    }
   ],
   "source": [
    "# Q3: Identify the top-spending customer for each country.\n",
    "# Hint: Calculate the total spending per customer per country and filter for the\n",
    "# highest spending.\n",
    "\n",
    "top_customers = pd.read_sql(\"\"\"\n",
    "SELECT \n",
    "    cs.customer_id,\n",
    "    cs.first_name,\n",
    "    cs.last_name,\n",
    "    cs.country,\n",
    "    ROUND(cs.total_spent, 2) AS total_spent\n",
    "FROM (\n",
    "    SELECT \n",
    "        c.customer_id,\n",
    "        c.first_name,\n",
    "        c.last_name,\n",
    "        c.country,\n",
    "        SUM(il.unit_price * il.quantity) AS total_spent,\n",
    "        ROW_NUMBER() OVER (PARTITION BY c.country ORDER BY SUM(il.unit_price * il.quantity) DESC) AS rank\n",
    "    FROM customer AS c\n",
    "    JOIN invoice AS i ON c.customer_id = i.customer_id\n",
    "    JOIN invoice_line AS il ON i.invoice_id = il.invoice_id\n",
    "    GROUP BY c.customer_id, c.first_name, c.last_name, c.country\n",
    ") cs\n",
    "WHERE cs.rank = 1\n",
    "ORDER BY cs.country;\n",
    "\"\"\", conn)\n",
    "\n",
    "print(top_customers)"
   ]
  },
  {
   "cell_type": "code",
   "execution_count": null,
   "id": "0c79f667-ecec-4d19-96aa-500e81ab52aa",
   "metadata": {},
   "outputs": [],
   "source": []
  }
 ],
 "metadata": {
  "kernelspec": {
   "display_name": "Python [conda env:base] *",
   "language": "python",
   "name": "conda-base-py"
  },
  "language_info": {
   "codemirror_mode": {
    "name": "ipython",
    "version": 3
   },
   "file_extension": ".py",
   "mimetype": "text/x-python",
   "name": "python",
   "nbconvert_exporter": "python",
   "pygments_lexer": "ipython3",
   "version": "3.12.7"
  }
 },
 "nbformat": 4,
 "nbformat_minor": 5
}
